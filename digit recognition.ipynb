{
  "nbformat": 4,
  "nbformat_minor": 0,
  "metadata": {
    "colab": {
      "provenance": []
    },
    "kernelspec": {
      "name": "python3",
      "display_name": "Python 3"
    },
    "language_info": {
      "name": "python"
    }
  },
  "cells": [
    {
      "cell_type": "code",
      "execution_count": 1,
      "metadata": {
        "id": "_9QTzWkqv3Ua"
      },
      "outputs": [],
      "source": [
        "from IPython import get_ipython\n",
        "from IPython.display import display"
      ]
    },
    {
      "source": [
        "import numpy as np\n",
        "import matplotlib.pyplot as plt\n",
        "import seaborn as sns\n",
        "import cv2\n",
        "#from google.colab.patches import cv2_imshow # This import seems unused, consider removing or using it in the code.\n",
        "from PIL import Image\n",
        "import tensorflow as tf\n",
        "tf.random.set_seed(3)\n",
        "from tensorflow import keras\n",
        "from keras.datasets import mnist\n",
        "from tensorflow.math import confusion_matrix\n",
        "# Changed import to get ImageDataGenerator from tf.keras.preprocessing.image\n",
        "from tensorflow.keras.preprocessing.image import ImageDataGenerator #for data augmentation\n",
        "from sklearn.metrics import confusion_matrix #for confusion matrix"
      ],
      "cell_type": "code",
      "metadata": {
        "id": "z79uP4k4w8zD"
      },
      "execution_count": null,
      "outputs": []
    },
    {
      "cell_type": "code",
      "source": [
        "(X_train, Y_train), (X_test, Y_test)=mnist.load_data()"
      ],
      "metadata": {
        "id": "0ovLWW4iv8ze"
      },
      "execution_count": null,
      "outputs": []
    },
    {
      "cell_type": "code",
      "source": [
        "type(X_train)"
      ],
      "metadata": {
        "id": "qseJac4Uv_At"
      },
      "execution_count": null,
      "outputs": []
    },
    {
      "cell_type": "code",
      "source": [
        "print(X_train.shape, Y_train.shape, X_test.shape, Y_test.shape)"
      ],
      "metadata": {
        "id": "S1XPGT8hwApG"
      },
      "execution_count": null,
      "outputs": []
    },
    {
      "cell_type": "code",
      "source": [
        "print(X_train[15])"
      ],
      "metadata": {
        "id": "VHYSkGQsxE79"
      },
      "execution_count": null,
      "outputs": []
    },
    {
      "cell_type": "code",
      "source": [
        "print(X_train[15].shape)"
      ],
      "metadata": {
        "id": "HJBSMqwOxHdq"
      },
      "execution_count": null,
      "outputs": []
    },
    {
      "cell_type": "code",
      "source": [
        "plt.imshow(X_train[25])\n",
        "plt.show\n",
        "\n",
        "print(Y_train[25])"
      ],
      "metadata": {
        "id": "Bbp-9jvzxJil"
      },
      "execution_count": null,
      "outputs": []
    },
    {
      "cell_type": "code",
      "source": [
        "print(Y_train.shape,Y_test.shape)"
      ],
      "metadata": {
        "id": "qQMK7gBCxN6F"
      },
      "execution_count": null,
      "outputs": []
    },
    {
      "cell_type": "code",
      "source": [
        "#Unique values in Y_train\n",
        "print(np.unique(Y_train))\n",
        "#unique values in Y_test\n",
        "print(np.unique(Y_test))"
      ],
      "metadata": {
        "id": "IKaweqUUxQAy"
      },
      "execution_count": null,
      "outputs": []
    },
    {
      "cell_type": "code",
      "source": [
        "#scale the values\n",
        "X_train=X_train/255\n",
        "X_test=X_test/255"
      ],
      "metadata": {
        "id": "1eJJ1DVaxUVI"
      },
      "execution_count": null,
      "outputs": []
    },
    {
      "cell_type": "code",
      "source": [
        "print(X_train[15])"
      ],
      "metadata": {
        "id": "Y1wEbUXvxiIr"
      },
      "execution_count": null,
      "outputs": []
    },
    {
      "cell_type": "code",
      "source": [
        "# Data Augmentation\n",
        "datagen = ImageDataGenerator(\n",
        "    rotation_range=10,\n",
        "    width_shift_range=0.1,\n",
        "    height_shift_range=0.1,\n",
        "    zoom_range=0.1\n",
        ")\n",
        "datagen.fit(X_train.reshape(-1, 28, 28, 1))"
      ],
      "metadata": {
        "id": "dVFhEKhoxlQz"
      },
      "execution_count": null,
      "outputs": []
    },
    {
      "cell_type": "code",
      "source": [
        "#setting the layers of neural network with Dropout for regularization\n",
        "model=keras.Sequential([\n",
        "    keras.layers.Flatten(input_shape=(28,28)),\n",
        "    keras.layers.Dense(128, activation='relu'), # Increased neurons, and added droput\n",
        "    keras.layers.Dropout(0.25),\n",
        "    keras.layers.Dense(64, activation='relu'), # Added another layer, and added droput\n",
        "    keras.layers.Dropout(0.25),\n",
        "    keras.layers.Dense(10, activation='sigmoid') #changed to softmax for multiclass\n",
        "])"
      ],
      "metadata": {
        "id": "K4IW7ADkxpC5"
      },
      "execution_count": null,
      "outputs": []
    },
    {
      "cell_type": "code",
      "source": [
        "#Compile the neural network, changed optimizer\n",
        "model.compile(optimizer='rmsprop', loss='sparse_categorical_crossentropy', metrics=['accuracy'])"
      ],
      "metadata": {
        "id": "4OA879LgxrSU"
      },
      "execution_count": null,
      "outputs": []
    },
    {
      "cell_type": "code",
      "source": [
        "#training the neural network with augmented data\n",
        "model.fit(datagen.flow(X_train.reshape(-1, 28, 28, 1), Y_train, batch_size=32), epochs=10)"
      ],
      "metadata": {
        "id": "pVq3SK4bxuGo"
      },
      "execution_count": null,
      "outputs": []
    },
    {
      "cell_type": "code",
      "source": [
        "loss, accuracy=model.evaluate(X_test, Y_test)\n",
        "print(accuracy)"
      ],
      "metadata": {
        "id": "CDu21tkoxxDx"
      },
      "execution_count": null,
      "outputs": []
    },
    {
      "cell_type": "code",
      "source": [
        "#Confusion Matrix Visualization\n",
        "Y_pred = model.predict(X_test)\n",
        "Y_pred_classes = np.argmax(Y_pred, axis=1)\n",
        "\n",
        "# Create confusion matrix\n",
        "cm = confusion_matrix(Y_test, Y_pred_classes)\n",
        "\n",
        "# Visualize confusion matrix using Seaborn\n",
        "plt.figure(figsize=(10, 7))\n",
        "sns.heatmap(cm, annot=True, fmt='d', cmap='Blues')\n",
        "plt.xlabel('Predicted')\n",
        "plt.ylabel('True')\n",
        "plt.title('Confusion Matrix')\n",
        "plt.show()"
      ],
      "metadata": {
        "id": "TkQhjhu5x0c6"
      },
      "execution_count": null,
      "outputs": []
    },
    {
      "cell_type": "code",
      "source": [],
      "metadata": {
        "id": "FR6Gl2fOx3k_"
      },
      "execution_count": null,
      "outputs": []
    }
  ]
}